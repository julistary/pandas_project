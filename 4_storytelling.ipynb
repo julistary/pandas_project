{
 "cells": [
  {
   "cell_type": "markdown",
   "metadata": {},
   "source": [
    "# 4. Story-Telling"
   ]
  },
  {
   "cell_type": "markdown",
   "metadata": {},
   "source": [
    "<img width=300 src=https://media3.giphy.com/media/Kzu78oGMgrq7M7HYoh/giphy.gif>"
   ]
  },
  {
   "cell_type": "markdown",
   "metadata": {},
   "source": [
    "This is my first Ironhack bootcamp project and my first data analysis project. "
   ]
  },
  {
   "cell_type": "markdown",
   "metadata": {},
   "source": [
    "We have been given a csv file with data on shark attacks. This file was kind of messy and required a thorough cleaning, wrangling and manipulation and to guide this, some hypotheses were put forward. To prove those hypotheses  some visualization tools were used. "
   ]
  },
  {
   "cell_type": "markdown",
   "metadata": {},
   "source": [
    "The following libraries are used to verify the hypotheses: `seaborn`, `pandas`, `matplotlib`, `numpy`, `re` and `math`.\n"
   ]
  },
  {
   "cell_type": "markdown",
   "metadata": {},
   "source": [
    "The first step is to perform a preliminary cleaning to make the data more manipulable. \n",
    "The dataframe is imported and after analyzing it, columns are renamed with more appropriate names, rows and columns that do not contain relevant information are removed and duplicates are eliminated."
   ]
  },
  {
   "cell_type": "markdown",
   "metadata": {},
   "source": [
    "## 1st hypothesis: The country with more attacks is Australia"
   ]
  },
  {
   "cell_type": "markdown",
   "metadata": {},
   "source": [
    "In order to verify this hypothesis, the following steps are followed:\n",
    "1. A dataframe with information on all countries is searched to clean from the original dataframe those data that do not correspond to countries. \n",
    "2. Next, the shark attack dataset is cleaned in such a way that the countries column of both dataframes have the same format so that the comparison is possible. \n",
    "3. Once the column of countries of the original dataframe has been cleaned, a subdataframe is created with those countries with a frequency greater than 100. \n",
    "4. It is represented in a countplot."
   ]
  },
  {
   "cell_type": "markdown",
   "metadata": {},
   "source": [
    "<img width=1000 src=\"images/1sth.svg\">"
   ]
  },
  {
   "cell_type": "markdown",
   "metadata": {},
   "source": [
    "From the histogram we conclude that the hypothesis is `FALSE` and that the country with the most shark attacks is the United States, followed by Australia. "
   ]
  },
  {
   "cell_type": "markdown",
   "metadata": {},
   "source": [
    "## 2nd hypothesis: The region with more attacks is \"Latin America and the Caribbean Sea\""
   ]
  },
  {
   "cell_type": "markdown",
   "metadata": {},
   "source": [
    "In order to verify this hypothesis, the following steps are followed:\n",
    "1. The dataframe is reused with information on countries. \n",
    "2. From the countries dataframe a dictionary is created with the countries as keys (because they are unique values) and the regions as values.\n",
    "3. The data of the original dataframe is modified in such a way that it has the same format as the dictionary.\n",
    "4. From the dictionary a new column is created in the original dataframe indicating the region to which each country belongs. \n",
    "5. It is represented in a countplot."
   ]
  },
  {
   "cell_type": "markdown",
   "metadata": {},
   "source": [
    "<img width=1000 src=\"images/2ndh.svg\">"
   ]
  },
  {
   "cell_type": "markdown",
   "metadata": {},
   "source": [
    "From the histogram we conclude that the hypothesis, once again, is `FALSE` and that the region with the most shark attacks is Northern America, followed by Oceania and Latin America and the Caribbean Sea. "
   ]
  },
  {
   "cell_type": "markdown",
   "metadata": {},
   "source": [
    "## 3rd Hypothesis: The most frequent activity is surfing"
   ]
  },
  {
   "cell_type": "markdown",
   "metadata": {},
   "source": [
    "In order to verify this hypothesis, the following steps are followed:\n",
    "1. The words corresponding to activities are selected from the activities column and a new column is created with those words. \n",
    "2. A subdataframe with the most frequent activities is created.\n",
    "3. It is represented in a countplot.\n"
   ]
  },
  {
   "cell_type": "markdown",
   "metadata": {},
   "source": [
    "<img width=1000 src=\"images/3rdh.svg\">"
   ]
  },
  {
   "cell_type": "markdown",
   "metadata": {},
   "source": [
    "From the histogram we conclude that the hypothesis is `TRUE`: surfing is the activity in which shark attacks occur most frequently. Other activities with significant frequency are swimming, diving and spearfishing."
   ]
  },
  {
   "cell_type": "markdown",
   "metadata": {},
   "source": [
    "<img width=300 src=https://www.latassurf.com/wp-content/uploads/2019/09/shark-1080x675.jpg>"
   ]
  },
  {
   "cell_type": "markdown",
   "metadata": {},
   "source": [
    "## 4th hypothesis: The older the age, the more fatal attacks "
   ]
  },
  {
   "cell_type": "markdown",
   "metadata": {},
   "source": [
    "In order to verify this hypothesis, the 'Fatal' and 'Age' columns are cleared from the dataframe and plotted together in a histogram. The average age of those attacked is also shown. "
   ]
  },
  {
   "cell_type": "markdown",
   "metadata": {},
   "source": [
    "<img width=1000 src=\"images/4thh.svg\">"
   ]
  },
  {
   "cell_type": "markdown",
   "metadata": {},
   "source": [
    "The histogram shows that the hypothesis is `FALSE`. Sharks attack more young people between 20 and 40 years old. Within that same group is where most fatal accidents occur. The average age of those attacked is 28 years old."
   ]
  },
  {
   "cell_type": "markdown",
   "metadata": {},
   "source": [
    "<img width=300 src=\"images/4_1thh.svg\">"
   ]
  },
  {
   "cell_type": "markdown",
   "metadata": {},
   "source": [
    "The countplot shows that most of the attacks are not fatal. "
   ]
  },
  {
   "cell_type": "markdown",
   "metadata": {},
   "source": [
    "## 5th hypothesis: The trend of attacks tends to increase since 1975"
   ]
  },
  {
   "cell_type": "markdown",
   "metadata": {},
   "source": [
    "In order to verify this hypothesis, the following steps are followed:\n",
    "1. A subdataframe is created with the data from 1975. \n",
    "2. A dictionary is created with two columns: 'Years' and 'Number of attacks'.\n",
    "3. A dataframe is created from this dictionary.\n",
    "4. It is represented in a lineplot. "
   ]
  },
  {
   "cell_type": "markdown",
   "metadata": {},
   "source": [
    "<img width=1000 src=\"images/5thh.svg\">"
   ]
  },
  {
   "cell_type": "markdown",
   "metadata": {},
   "source": [
    "The graph verifies the hypothesis (`TRUE`): there is an increasing trend in the number of shark attacks. "
   ]
  },
  {
   "cell_type": "markdown",
   "metadata": {},
   "source": [
    "## 6th hypothesis: The shark that attacks the most is the white shark"
   ]
  },
  {
   "cell_type": "markdown",
   "metadata": {},
   "source": [
    "The process developed to verify this hypothesis is analogous to that of the third hypothesis, substituting activities for species. "
   ]
  },
  {
   "cell_type": "markdown",
   "metadata": {},
   "source": [
    "<img width=1000 src=\"images/6thh.svg\">"
   ]
  },
  {
   "cell_type": "markdown",
   "metadata": {},
   "source": [
    "The countplot shows that the hypothesis is `TRUE`: the shark that attacks the most is the white shark, followed by the tiger and the bull. "
   ]
  },
  {
   "cell_type": "markdown",
   "metadata": {},
   "source": [
    "<img width=200 src=https://ih1.redbubble.net/image.606758393.8109/flat,750x,075,f-pad,750x1000,f8f8f8.jpg>"
   ]
  },
  {
   "cell_type": "code",
   "execution_count": null,
   "metadata": {},
   "outputs": [],
   "source": []
  }
 ],
 "metadata": {
  "kernelspec": {
   "display_name": "Python 3",
   "language": "python",
   "name": "python3"
  },
  "language_info": {
   "codemirror_mode": {
    "name": "ipython",
    "version": 3
   },
   "file_extension": ".py",
   "mimetype": "text/x-python",
   "name": "python",
   "nbconvert_exporter": "python",
   "pygments_lexer": "ipython3",
   "version": "3.8.5"
  }
 },
 "nbformat": 4,
 "nbformat_minor": 4
}
