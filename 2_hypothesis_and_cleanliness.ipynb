{
 "cells": [
  {
   "cell_type": "markdown",
   "metadata": {},
   "source": [
    "# 2. Hypothesis and cleanliness"
   ]
  },
  {
   "cell_type": "markdown",
   "metadata": {},
   "source": [
    "<img width=300 src=https://media.tenor.com/images/2a38716a95e18a291c722f10189beed3/tenor.gif>"
   ]
  },
  {
   "cell_type": "markdown",
   "metadata": {},
   "source": [
    "### Libraries"
   ]
  },
  {
   "cell_type": "code",
   "execution_count": 26,
   "metadata": {},
   "outputs": [],
   "source": [
    "import pandas as pd\n",
    "import numpy as np\n",
    "import re\n",
    "import seaborn as sns"
   ]
  },
  {
   "cell_type": "markdown",
   "metadata": {},
   "source": [
    "### Importing DataFrames"
   ]
  },
  {
   "cell_type": "code",
   "execution_count": 27,
   "metadata": {},
   "outputs": [],
   "source": [
    "df = pd.read_csv(\"attack_clean.csv\")"
   ]
  },
  {
   "cell_type": "code",
   "execution_count": 72,
   "metadata": {},
   "outputs": [
    {
     "data": {
      "text/html": [
       "<div>\n",
       "<style scoped>\n",
       "    .dataframe tbody tr th:only-of-type {\n",
       "        vertical-align: middle;\n",
       "    }\n",
       "\n",
       "    .dataframe tbody tr th {\n",
       "        vertical-align: top;\n",
       "    }\n",
       "\n",
       "    .dataframe thead th {\n",
       "        text-align: right;\n",
       "    }\n",
       "</style>\n",
       "<table border=\"1\" class=\"dataframe\">\n",
       "  <thead>\n",
       "    <tr style=\"text-align: right;\">\n",
       "      <th></th>\n",
       "      <th>Case_Number</th>\n",
       "      <th>Date</th>\n",
       "      <th>Year</th>\n",
       "      <th>Type</th>\n",
       "      <th>Country</th>\n",
       "      <th>Area</th>\n",
       "      <th>Location</th>\n",
       "      <th>Activity</th>\n",
       "      <th>Name</th>\n",
       "      <th>Sex</th>\n",
       "      <th>Age</th>\n",
       "      <th>Injury</th>\n",
       "      <th>Fatal</th>\n",
       "      <th>Time</th>\n",
       "      <th>Species</th>\n",
       "      <th>Investigator or Source</th>\n",
       "    </tr>\n",
       "  </thead>\n",
       "  <tbody>\n",
       "    <tr>\n",
       "      <th>0</th>\n",
       "      <td>2018.06.25</td>\n",
       "      <td>25-Jun-2018</td>\n",
       "      <td>2018</td>\n",
       "      <td>Boating</td>\n",
       "      <td>UNITED STATES</td>\n",
       "      <td>California</td>\n",
       "      <td>Oceanside, San Diego County</td>\n",
       "      <td>Paddling</td>\n",
       "      <td>Julie Wolfe</td>\n",
       "      <td>F</td>\n",
       "      <td>57</td>\n",
       "      <td>No injury to occupant, outrigger canoe and pad...</td>\n",
       "      <td>N</td>\n",
       "      <td>18h00</td>\n",
       "      <td>White shark</td>\n",
       "      <td>R. Collier, GSAF</td>\n",
       "    </tr>\n",
       "    <tr>\n",
       "      <th>1</th>\n",
       "      <td>2018.06.18</td>\n",
       "      <td>18-Jun-2018</td>\n",
       "      <td>2018</td>\n",
       "      <td>Unprovoked</td>\n",
       "      <td>UNITED STATES</td>\n",
       "      <td>Georgia</td>\n",
       "      <td>St. Simon Island, Glynn County</td>\n",
       "      <td>Standing</td>\n",
       "      <td>Adyson McNeely</td>\n",
       "      <td>F</td>\n",
       "      <td>11</td>\n",
       "      <td>Minor injury to left thigh</td>\n",
       "      <td>N</td>\n",
       "      <td>14h00  -15h00</td>\n",
       "      <td>NaN</td>\n",
       "      <td>K.McMurray, TrackingSharks.com</td>\n",
       "    </tr>\n",
       "    <tr>\n",
       "      <th>2</th>\n",
       "      <td>2018.06.09</td>\n",
       "      <td>09-Jun-2018</td>\n",
       "      <td>2018</td>\n",
       "      <td>Invalid</td>\n",
       "      <td>UNITED STATES</td>\n",
       "      <td>Hawaii</td>\n",
       "      <td>Habush, Oahu</td>\n",
       "      <td>Surfing</td>\n",
       "      <td>John Denges</td>\n",
       "      <td>M</td>\n",
       "      <td>48</td>\n",
       "      <td>Injury to left lower leg from surfboard skeg</td>\n",
       "      <td>N</td>\n",
       "      <td>07h45</td>\n",
       "      <td>NaN</td>\n",
       "      <td>K.McMurray, TrackingSharks.com</td>\n",
       "    </tr>\n",
       "    <tr>\n",
       "      <th>3</th>\n",
       "      <td>2018.06.08</td>\n",
       "      <td>08-Jun-2018</td>\n",
       "      <td>2018</td>\n",
       "      <td>Unprovoked</td>\n",
       "      <td>AUSTRALIA</td>\n",
       "      <td>New South Wales</td>\n",
       "      <td>Arrawarra Headland</td>\n",
       "      <td>Surfing</td>\n",
       "      <td>male</td>\n",
       "      <td>M</td>\n",
       "      <td>NaN</td>\n",
       "      <td>Minor injury to lower leg</td>\n",
       "      <td>N</td>\n",
       "      <td>NaN</td>\n",
       "      <td>2 m shark</td>\n",
       "      <td>B. Myatt, GSAF</td>\n",
       "    </tr>\n",
       "    <tr>\n",
       "      <th>4</th>\n",
       "      <td>2018.06.04</td>\n",
       "      <td>04-Jun-2018</td>\n",
       "      <td>2018</td>\n",
       "      <td>Provoked</td>\n",
       "      <td>MEXICO</td>\n",
       "      <td>Colima</td>\n",
       "      <td>La Ticla</td>\n",
       "      <td>Free diving</td>\n",
       "      <td>Gustavo Ramos</td>\n",
       "      <td>M</td>\n",
       "      <td>NaN</td>\n",
       "      <td>Lacerations to leg &amp; hand shark PROVOKED INCIDENT</td>\n",
       "      <td>N</td>\n",
       "      <td>NaN</td>\n",
       "      <td>Tiger shark, 3m</td>\n",
       "      <td>A .Kipper</td>\n",
       "    </tr>\n",
       "  </tbody>\n",
       "</table>\n",
       "</div>"
      ],
      "text/plain": [
       "  Case_Number         Date  Year        Type        Country             Area  \\\n",
       "0  2018.06.25  25-Jun-2018  2018     Boating  UNITED STATES       California   \n",
       "1  2018.06.18  18-Jun-2018  2018  Unprovoked  UNITED STATES          Georgia   \n",
       "2  2018.06.09  09-Jun-2018  2018     Invalid  UNITED STATES           Hawaii   \n",
       "3  2018.06.08  08-Jun-2018  2018  Unprovoked      AUSTRALIA  New South Wales   \n",
       "4  2018.06.04  04-Jun-2018  2018    Provoked         MEXICO           Colima   \n",
       "\n",
       "                         Location     Activity             Name Sex  Age  \\\n",
       "0     Oceanside, San Diego County     Paddling      Julie Wolfe   F   57   \n",
       "1  St. Simon Island, Glynn County     Standing  Adyson McNeely    F   11   \n",
       "2                    Habush, Oahu      Surfing      John Denges   M   48   \n",
       "3              Arrawarra Headland      Surfing             male   M  NaN   \n",
       "4                        La Ticla  Free diving   Gustavo Ramos    M  NaN   \n",
       "\n",
       "                                              Injury Fatal           Time  \\\n",
       "0  No injury to occupant, outrigger canoe and pad...     N          18h00   \n",
       "1                         Minor injury to left thigh     N  14h00  -15h00   \n",
       "2       Injury to left lower leg from surfboard skeg     N          07h45   \n",
       "3                          Minor injury to lower leg     N            NaN   \n",
       "4  Lacerations to leg & hand shark PROVOKED INCIDENT     N            NaN   \n",
       "\n",
       "           Species          Investigator or Source  \n",
       "0      White shark                R. Collier, GSAF  \n",
       "1              NaN  K.McMurray, TrackingSharks.com  \n",
       "2              NaN  K.McMurray, TrackingSharks.com  \n",
       "3        2 m shark                  B. Myatt, GSAF  \n",
       "4  Tiger shark, 3m                       A .Kipper  "
      ]
     },
     "metadata": {},
     "output_type": "display_data"
    }
   ],
   "source": [
    "display(df.head())"
   ]
  },
  {
   "cell_type": "markdown",
   "metadata": {},
   "source": [
    "## 1st Hypothesis: The country with more attacks is Australia"
   ]
  },
  {
   "cell_type": "markdown",
   "metadata": {},
   "source": [
    "### Importing DataFrame with countries information"
   ]
  },
  {
   "cell_type": "code",
   "execution_count": 29,
   "metadata": {},
   "outputs": [],
   "source": [
    "df_countries = pd.read_csv(\"countries.csv\")"
   ]
  },
  {
   "cell_type": "code",
   "execution_count": 30,
   "metadata": {},
   "outputs": [
    {
     "data": {
      "text/html": [
       "<div>\n",
       "<style scoped>\n",
       "    .dataframe tbody tr th:only-of-type {\n",
       "        vertical-align: middle;\n",
       "    }\n",
       "\n",
       "    .dataframe tbody tr th {\n",
       "        vertical-align: top;\n",
       "    }\n",
       "\n",
       "    .dataframe thead th {\n",
       "        text-align: right;\n",
       "    }\n",
       "</style>\n",
       "<table border=\"1\" class=\"dataframe\">\n",
       "  <thead>\n",
       "    <tr style=\"text-align: right;\">\n",
       "      <th></th>\n",
       "      <th>Country</th>\n",
       "      <th>Region</th>\n",
       "      <th>Population</th>\n",
       "      <th>Area (sq. mi.)</th>\n",
       "      <th>Pop. Density (per sq. mi.)</th>\n",
       "      <th>Coastline (coast/area ratio)</th>\n",
       "      <th>Net migration</th>\n",
       "      <th>Infant mortality (per 1000 births)</th>\n",
       "      <th>GDP ($ per capita)</th>\n",
       "      <th>Literacy (%)</th>\n",
       "      <th>Phones (per 1000)</th>\n",
       "      <th>Arable (%)</th>\n",
       "      <th>Crops (%)</th>\n",
       "      <th>Other (%)</th>\n",
       "      <th>Climate</th>\n",
       "      <th>Birthrate</th>\n",
       "      <th>Deathrate</th>\n",
       "      <th>Agriculture</th>\n",
       "      <th>Industry</th>\n",
       "      <th>Service</th>\n",
       "    </tr>\n",
       "  </thead>\n",
       "  <tbody>\n",
       "    <tr>\n",
       "      <th>0</th>\n",
       "      <td>Afghanistan</td>\n",
       "      <td>ASIA (EX. NEAR EAST)</td>\n",
       "      <td>31056997</td>\n",
       "      <td>647500</td>\n",
       "      <td>48,0</td>\n",
       "      <td>0,00</td>\n",
       "      <td>23,06</td>\n",
       "      <td>163,07</td>\n",
       "      <td>700.0</td>\n",
       "      <td>36,0</td>\n",
       "      <td>3,2</td>\n",
       "      <td>12,13</td>\n",
       "      <td>0,22</td>\n",
       "      <td>87,65</td>\n",
       "      <td>1</td>\n",
       "      <td>46,6</td>\n",
       "      <td>20,34</td>\n",
       "      <td>0,38</td>\n",
       "      <td>0,24</td>\n",
       "      <td>0,38</td>\n",
       "    </tr>\n",
       "    <tr>\n",
       "      <th>1</th>\n",
       "      <td>Albania</td>\n",
       "      <td>EASTERN EUROPE</td>\n",
       "      <td>3581655</td>\n",
       "      <td>28748</td>\n",
       "      <td>124,6</td>\n",
       "      <td>1,26</td>\n",
       "      <td>-4,93</td>\n",
       "      <td>21,52</td>\n",
       "      <td>4500.0</td>\n",
       "      <td>86,5</td>\n",
       "      <td>71,2</td>\n",
       "      <td>21,09</td>\n",
       "      <td>4,42</td>\n",
       "      <td>74,49</td>\n",
       "      <td>3</td>\n",
       "      <td>15,11</td>\n",
       "      <td>5,22</td>\n",
       "      <td>0,232</td>\n",
       "      <td>0,188</td>\n",
       "      <td>0,579</td>\n",
       "    </tr>\n",
       "    <tr>\n",
       "      <th>2</th>\n",
       "      <td>Algeria</td>\n",
       "      <td>NORTHERN AFRICA</td>\n",
       "      <td>32930091</td>\n",
       "      <td>2381740</td>\n",
       "      <td>13,8</td>\n",
       "      <td>0,04</td>\n",
       "      <td>-0,39</td>\n",
       "      <td>31</td>\n",
       "      <td>6000.0</td>\n",
       "      <td>70,0</td>\n",
       "      <td>78,1</td>\n",
       "      <td>3,22</td>\n",
       "      <td>0,25</td>\n",
       "      <td>96,53</td>\n",
       "      <td>1</td>\n",
       "      <td>17,14</td>\n",
       "      <td>4,61</td>\n",
       "      <td>0,101</td>\n",
       "      <td>0,6</td>\n",
       "      <td>0,298</td>\n",
       "    </tr>\n",
       "    <tr>\n",
       "      <th>3</th>\n",
       "      <td>American Samoa</td>\n",
       "      <td>OCEANIA</td>\n",
       "      <td>57794</td>\n",
       "      <td>199</td>\n",
       "      <td>290,4</td>\n",
       "      <td>58,29</td>\n",
       "      <td>-20,71</td>\n",
       "      <td>9,27</td>\n",
       "      <td>8000.0</td>\n",
       "      <td>97,0</td>\n",
       "      <td>259,5</td>\n",
       "      <td>10</td>\n",
       "      <td>15</td>\n",
       "      <td>75</td>\n",
       "      <td>2</td>\n",
       "      <td>22,46</td>\n",
       "      <td>3,27</td>\n",
       "      <td>NaN</td>\n",
       "      <td>NaN</td>\n",
       "      <td>NaN</td>\n",
       "    </tr>\n",
       "    <tr>\n",
       "      <th>4</th>\n",
       "      <td>Andorra</td>\n",
       "      <td>WESTERN EUROPE</td>\n",
       "      <td>71201</td>\n",
       "      <td>468</td>\n",
       "      <td>152,1</td>\n",
       "      <td>0,00</td>\n",
       "      <td>6,6</td>\n",
       "      <td>4,05</td>\n",
       "      <td>19000.0</td>\n",
       "      <td>100,0</td>\n",
       "      <td>497,2</td>\n",
       "      <td>2,22</td>\n",
       "      <td>0</td>\n",
       "      <td>97,78</td>\n",
       "      <td>3</td>\n",
       "      <td>8,71</td>\n",
       "      <td>6,25</td>\n",
       "      <td>NaN</td>\n",
       "      <td>NaN</td>\n",
       "      <td>NaN</td>\n",
       "    </tr>\n",
       "  </tbody>\n",
       "</table>\n",
       "</div>"
      ],
      "text/plain": [
       "           Country                               Region  Population  \\\n",
       "0     Afghanistan         ASIA (EX. NEAR EAST)             31056997   \n",
       "1         Albania   EASTERN EUROPE                          3581655   \n",
       "2         Algeria   NORTHERN AFRICA                        32930091   \n",
       "3  American Samoa   OCEANIA                                   57794   \n",
       "4         Andorra   WESTERN EUROPE                            71201   \n",
       "\n",
       "   Area (sq. mi.) Pop. Density (per sq. mi.) Coastline (coast/area ratio)  \\\n",
       "0          647500                       48,0                         0,00   \n",
       "1           28748                      124,6                         1,26   \n",
       "2         2381740                       13,8                         0,04   \n",
       "3             199                      290,4                        58,29   \n",
       "4             468                      152,1                         0,00   \n",
       "\n",
       "  Net migration Infant mortality (per 1000 births)  GDP ($ per capita)  \\\n",
       "0         23,06                             163,07               700.0   \n",
       "1         -4,93                              21,52              4500.0   \n",
       "2         -0,39                                 31              6000.0   \n",
       "3        -20,71                               9,27              8000.0   \n",
       "4           6,6                               4,05             19000.0   \n",
       "\n",
       "  Literacy (%) Phones (per 1000) Arable (%) Crops (%) Other (%) Climate  \\\n",
       "0         36,0               3,2      12,13      0,22     87,65       1   \n",
       "1         86,5              71,2      21,09      4,42     74,49       3   \n",
       "2         70,0              78,1       3,22      0,25     96,53       1   \n",
       "3         97,0             259,5         10        15        75       2   \n",
       "4        100,0             497,2       2,22         0     97,78       3   \n",
       "\n",
       "  Birthrate Deathrate Agriculture Industry Service  \n",
       "0      46,6     20,34        0,38     0,24    0,38  \n",
       "1     15,11      5,22       0,232    0,188   0,579  \n",
       "2     17,14      4,61       0,101      0,6   0,298  \n",
       "3     22,46      3,27         NaN      NaN     NaN  \n",
       "4      8,71      6,25         NaN      NaN     NaN  "
      ]
     },
     "metadata": {},
     "output_type": "display_data"
    }
   ],
   "source": [
    "display(df_countries.head())"
   ]
  },
  {
   "cell_type": "markdown",
   "metadata": {},
   "source": [
    "### Creating a subset with column \"Country\""
   ]
  },
  {
   "cell_type": "code",
   "execution_count": 31,
   "metadata": {},
   "outputs": [],
   "source": [
    "countries = df_countries[\"Country\"]"
   ]
  },
  {
   "cell_type": "code",
   "execution_count": 32,
   "metadata": {},
   "outputs": [],
   "source": [
    "countries_list = list(countries)\n",
    "countries_mayus = []"
   ]
  },
  {
   "cell_type": "code",
   "execution_count": 33,
   "metadata": {},
   "outputs": [],
   "source": [
    "for country in countries_list:\n",
    "    country = country[:-1]\n",
    "    countries_mayus.append(country.upper())"
   ]
  },
  {
   "cell_type": "markdown",
   "metadata": {},
   "source": [
    "### Cleaning subset "
   ]
  },
  {
   "cell_type": "code",
   "execution_count": 34,
   "metadata": {},
   "outputs": [],
   "source": [
    "df['Country'] = df['Country'].replace(['ENGLAND'],'UNITED KINGDOM')"
   ]
  },
  {
   "cell_type": "code",
   "execution_count": 35,
   "metadata": {},
   "outputs": [],
   "source": [
    "df['Country'] = df['Country'].replace(['USA'],'UNITED STATES')"
   ]
  },
  {
   "cell_type": "code",
   "execution_count": 36,
   "metadata": {},
   "outputs": [],
   "source": [
    "df_country = df[df['Country'].isin(countries_mayus)]"
   ]
  },
  {
   "cell_type": "code",
   "execution_count": 37,
   "metadata": {},
   "outputs": [
    {
     "data": {
      "text/plain": [
       "array(['UNITED STATES', 'AUSTRALIA', 'MEXICO', 'BRAZIL', 'UNITED KINGDOM',\n",
       "       'SOUTH AFRICA', 'THAILAND', 'COSTA RICA', 'MALDIVES', 'BAHAMAS',\n",
       "       'NEW CALEDONIA', 'ECUADOR', 'MALAYSIA', 'LIBYA', 'CUBA',\n",
       "       'MAURITIUS', 'NEW ZEALAND', 'SPAIN', 'SAMOA', 'SOLOMON ISLANDS',\n",
       "       'JAPAN', 'EGYPT', 'COMOROS', 'REUNION', 'FRENCH POLYNESIA',\n",
       "       'UNITED ARAB EMIRATES', 'PHILIPPINES', 'INDONESIA', 'CHINA',\n",
       "       'CAPE VERDE', 'DOMINICAN REPUBLIC', 'CAYMAN ISLANDS', 'ARUBA',\n",
       "       'MOZAMBIQUE', 'FIJI', 'PUERTO RICO', 'ITALY', 'GREECE', 'FRANCE',\n",
       "       'PAPUA NEW GUINEA', 'TRINIDAD & TOBAGO', 'KIRIBATI', 'ISRAEL',\n",
       "       'TAIWAN', 'JAMAICA', 'GUAM', 'SEYCHELLES', 'BELIZE', 'NIGERIA',\n",
       "       'TONGA', 'CANADA', 'CROATIA', 'SAUDI ARABIA', 'CHILE', 'KENYA',\n",
       "       'RUSSIA', 'MALTA', 'VIETNAM', 'MADAGASCAR', 'PANAMA', 'SOMALIA',\n",
       "       'NORWAY', 'SENEGAL', 'YEMEN', 'LIBERIA', 'VANUATU', 'HONDURAS',\n",
       "       'VENEZUELA', 'SRI LANKA', 'URUGUAY', 'INDIA', 'TANZANIA',\n",
       "       'MARSHALL ISLANDS', 'HONG KONG', 'EL SALVADOR', 'ANGOLA',\n",
       "       'BERMUDA', 'IRAN', 'TUNISIA', 'NAMIBIA', 'PORTUGAL', 'BANGLADESH',\n",
       "       'PALAU', 'GRENADA', 'IRAQ', 'TURKEY', 'SINGAPORE', 'SUDAN',\n",
       "       'AMERICAN SAMOA', 'GABON', 'MAYOTTE', 'ARGENTINA', 'MARTINIQUE',\n",
       "       'GUATEMALA', 'NETHERLANDS ANTILLES', 'SIERRA LEONE', 'NICARAGUA',\n",
       "       'SLOVENIA', 'ICELAND', 'BARBADOS', 'MONACO', 'GUYANA', 'HAITI',\n",
       "       'IRELAND', 'KUWAIT', 'CYPRUS', 'BURMA', 'LEBANON', 'PARAGUAY',\n",
       "       'GEORGIA', 'SYRIA', 'TUVALU', 'GUINEA', 'COOK ISLANDS', 'PERU',\n",
       "       'ALGERIA', 'GHANA', 'GREENLAND', 'SWEDEN'], dtype=object)"
      ]
     },
     "execution_count": 37,
     "metadata": {},
     "output_type": "execute_result"
    }
   ],
   "source": [
    "df_country.Country.unique()"
   ]
  },
  {
   "cell_type": "code",
   "execution_count": 38,
   "metadata": {},
   "outputs": [
    {
     "name": "stdout",
     "output_type": "stream",
     "text": [
      "{'UNITED STATES': 2212, 'AUSTRALIA': 1321, 'SOUTH AFRICA': 571, 'PAPUA NEW GUINEA': 130, 'NEW ZEALAND': 127, 'BRAZIL': 112, 'BAHAMAS': 106, 'MEXICO': 89, 'ITALY': 69, 'PHILIPPINES': 61, 'FIJI': 59, 'REUNION': 58, 'NEW CALEDONIA': 53, 'CUBA': 45, 'SPAIN': 43, 'MOZAMBIQUE': 43, 'EGYPT': 38, 'INDIA': 38, 'CROATIA': 34, 'JAPAN': 34, 'UNITED KINGDOM': 33, 'PANAMA': 30, 'SOLOMON ISLANDS': 28, 'JAMAICA': 27, 'IRAN': 25, 'HONG KONG': 24, 'FRENCH POLYNESIA': 24, 'INDONESIA': 22, 'GREECE': 19, 'COSTA RICA': 17, 'TONGA': 15, 'BERMUDA': 14, 'FRANCE': 13, 'SRI LANKA': 13, 'VIETNAM': 13, 'MARSHALL ISLANDS': 12, 'TURKEY': 12, 'VANUATU': 12, 'CANADA': 11, 'SENEGAL': 11, 'VENEZUELA': 10, 'MAURITIUS': 10, 'ECUADOR': 9, 'TAIWAN': 9, 'TANZANIA': 8, 'SAMOA': 8, 'IRAQ': 8, 'SIERRA LEONE': 8, 'KENYA': 8, 'CHILE': 8, 'THAILAND': 8, 'DOMINICAN REPUBLIC': 7, 'MADAGASCAR': 7, 'ISRAEL': 7, 'CHINA': 7, 'SOMALIA': 6, 'BARBADOS': 6, 'SEYCHELLES': 6, 'MALTA': 5, 'MALAYSIA': 5, 'NICARAGUA': 5, 'SINGAPORE': 5, 'PALAU': 5, 'LIBYA': 5, 'KIRIBATI': 4, 'GUAM': 4, 'NIGERIA': 4, 'HONDURAS': 4, 'GRENADA': 4, 'EL SALVADOR': 4, 'RUSSIA': 4, 'LIBERIA': 3, 'TUNISIA': 3, 'TRINIDAD & TOBAGO': 3, 'GUYANA': 3, 'MARTINIQUE': 3, 'AMERICAN SAMOA': 3, 'CAPE VERDE': 3, 'GUINEA': 3, 'HAITI': 3, 'PORTUGAL': 3, 'NORWAY': 2, 'YEMEN': 2, 'BELIZE': 2, 'UNITED ARAB EMIRATES': 2, 'BURMA': 2, 'SAUDI ARABIA': 2, 'NAMIBIA': 2, 'LEBANON': 2, 'ICELAND': 2, 'CAYMAN ISLANDS': 2, 'URUGUAY': 2, 'SUDAN': 2, 'GREENLAND': 1, 'MALDIVES': 1, 'COOK ISLANDS': 1, 'GEORGIA': 1, 'MONACO': 1, 'PARAGUAY': 1, 'IRELAND': 1, 'KUWAIT': 1, 'CYPRUS': 1, 'GHANA': 1, 'PUERTO RICO': 1, 'SYRIA': 1, 'GUATEMALA': 1, 'GABON': 1, 'ARGENTINA': 1, 'COMOROS': 1, 'NETHERLANDS ANTILLES': 1, 'PERU': 1, 'ANGOLA': 1, 'SWEDEN': 1, 'SLOVENIA': 1, 'TUVALU': 1, 'ALGERIA': 1, 'BANGLADESH': 1, 'ARUBA': 1, 'MAYOTTE': 1}\n"
     ]
    }
   ],
   "source": [
    "vc = df_country.Country.value_counts()\n",
    "vc.index = vc.index.astype(str)\n",
    "country_dict = vc.to_dict()\n",
    "print(country_dict)"
   ]
  },
  {
   "cell_type": "markdown",
   "metadata": {},
   "source": [
    "### Creating a subDataFrame with the most frequnt countries"
   ]
  },
  {
   "cell_type": "code",
   "execution_count": 39,
   "metadata": {},
   "outputs": [
    {
     "name": "stdout",
     "output_type": "stream",
     "text": [
      "['UNITED STATES', 'AUSTRALIA', 'SOUTH AFRICA', 'PAPUA NEW GUINEA', 'NEW ZEALAND', 'BRAZIL', 'BAHAMAS']\n"
     ]
    }
   ],
   "source": [
    "country_100 = []\n",
    "country_100 = [country for country,freq in country_dict.items() if freq > 100]\n",
    "print(country_100)"
   ]
  },
  {
   "cell_type": "code",
   "execution_count": 40,
   "metadata": {},
   "outputs": [],
   "source": [
    "df_countries_clean = df_country[df_country['Country'].isin(country_100)]"
   ]
  },
  {
   "cell_type": "markdown",
   "metadata": {},
   "source": [
    "### Exporting"
   ]
  },
  {
   "cell_type": "code",
   "execution_count": 41,
   "metadata": {},
   "outputs": [],
   "source": [
    "df_countries_clean.to_csv(\"./first.csv\")"
   ]
  },
  {
   "cell_type": "markdown",
   "metadata": {},
   "source": [
    "## 2nd hypothesis: The region with more attacks is \"Latin America and the Caribbean Sea\""
   ]
  },
  {
   "cell_type": "markdown",
   "metadata": {},
   "source": [
    "We use the same DataFrame from the 1st hypothesis."
   ]
  },
  {
   "cell_type": "markdown",
   "metadata": {},
   "source": [
    "### Cleaning DataFrame"
   ]
  },
  {
   "cell_type": "code",
   "execution_count": 42,
   "metadata": {},
   "outputs": [
    {
     "data": {
      "text/html": [
       "<div>\n",
       "<style scoped>\n",
       "    .dataframe tbody tr th:only-of-type {\n",
       "        vertical-align: middle;\n",
       "    }\n",
       "\n",
       "    .dataframe tbody tr th {\n",
       "        vertical-align: top;\n",
       "    }\n",
       "\n",
       "    .dataframe thead th {\n",
       "        text-align: right;\n",
       "    }\n",
       "</style>\n",
       "<table border=\"1\" class=\"dataframe\">\n",
       "  <thead>\n",
       "    <tr style=\"text-align: right;\">\n",
       "      <th></th>\n",
       "      <th>Country</th>\n",
       "      <th>Region</th>\n",
       "      <th>Population</th>\n",
       "      <th>Area (sq. mi.)</th>\n",
       "      <th>Pop. Density (per sq. mi.)</th>\n",
       "      <th>Coastline (coast/area ratio)</th>\n",
       "      <th>Net migration</th>\n",
       "      <th>Infant mortality (per 1000 births)</th>\n",
       "      <th>GDP ($ per capita)</th>\n",
       "      <th>Literacy (%)</th>\n",
       "      <th>Phones (per 1000)</th>\n",
       "      <th>Arable (%)</th>\n",
       "      <th>Crops (%)</th>\n",
       "      <th>Other (%)</th>\n",
       "      <th>Climate</th>\n",
       "      <th>Birthrate</th>\n",
       "      <th>Deathrate</th>\n",
       "      <th>Agriculture</th>\n",
       "      <th>Industry</th>\n",
       "      <th>Service</th>\n",
       "    </tr>\n",
       "  </thead>\n",
       "  <tbody>\n",
       "    <tr>\n",
       "      <th>0</th>\n",
       "      <td>Afghanistan</td>\n",
       "      <td>ASIA (EX. NEAR EAST)</td>\n",
       "      <td>31056997</td>\n",
       "      <td>647500</td>\n",
       "      <td>48,0</td>\n",
       "      <td>0,00</td>\n",
       "      <td>23,06</td>\n",
       "      <td>163,07</td>\n",
       "      <td>700.0</td>\n",
       "      <td>36,0</td>\n",
       "      <td>3,2</td>\n",
       "      <td>12,13</td>\n",
       "      <td>0,22</td>\n",
       "      <td>87,65</td>\n",
       "      <td>1</td>\n",
       "      <td>46,6</td>\n",
       "      <td>20,34</td>\n",
       "      <td>0,38</td>\n",
       "      <td>0,24</td>\n",
       "      <td>0,38</td>\n",
       "    </tr>\n",
       "    <tr>\n",
       "      <th>1</th>\n",
       "      <td>Albania</td>\n",
       "      <td>EASTERN EUROPE</td>\n",
       "      <td>3581655</td>\n",
       "      <td>28748</td>\n",
       "      <td>124,6</td>\n",
       "      <td>1,26</td>\n",
       "      <td>-4,93</td>\n",
       "      <td>21,52</td>\n",
       "      <td>4500.0</td>\n",
       "      <td>86,5</td>\n",
       "      <td>71,2</td>\n",
       "      <td>21,09</td>\n",
       "      <td>4,42</td>\n",
       "      <td>74,49</td>\n",
       "      <td>3</td>\n",
       "      <td>15,11</td>\n",
       "      <td>5,22</td>\n",
       "      <td>0,232</td>\n",
       "      <td>0,188</td>\n",
       "      <td>0,579</td>\n",
       "    </tr>\n",
       "    <tr>\n",
       "      <th>2</th>\n",
       "      <td>Algeria</td>\n",
       "      <td>NORTHERN AFRICA</td>\n",
       "      <td>32930091</td>\n",
       "      <td>2381740</td>\n",
       "      <td>13,8</td>\n",
       "      <td>0,04</td>\n",
       "      <td>-0,39</td>\n",
       "      <td>31</td>\n",
       "      <td>6000.0</td>\n",
       "      <td>70,0</td>\n",
       "      <td>78,1</td>\n",
       "      <td>3,22</td>\n",
       "      <td>0,25</td>\n",
       "      <td>96,53</td>\n",
       "      <td>1</td>\n",
       "      <td>17,14</td>\n",
       "      <td>4,61</td>\n",
       "      <td>0,101</td>\n",
       "      <td>0,6</td>\n",
       "      <td>0,298</td>\n",
       "    </tr>\n",
       "    <tr>\n",
       "      <th>3</th>\n",
       "      <td>American Samoa</td>\n",
       "      <td>OCEANIA</td>\n",
       "      <td>57794</td>\n",
       "      <td>199</td>\n",
       "      <td>290,4</td>\n",
       "      <td>58,29</td>\n",
       "      <td>-20,71</td>\n",
       "      <td>9,27</td>\n",
       "      <td>8000.0</td>\n",
       "      <td>97,0</td>\n",
       "      <td>259,5</td>\n",
       "      <td>10</td>\n",
       "      <td>15</td>\n",
       "      <td>75</td>\n",
       "      <td>2</td>\n",
       "      <td>22,46</td>\n",
       "      <td>3,27</td>\n",
       "      <td>NaN</td>\n",
       "      <td>NaN</td>\n",
       "      <td>NaN</td>\n",
       "    </tr>\n",
       "    <tr>\n",
       "      <th>4</th>\n",
       "      <td>Andorra</td>\n",
       "      <td>WESTERN EUROPE</td>\n",
       "      <td>71201</td>\n",
       "      <td>468</td>\n",
       "      <td>152,1</td>\n",
       "      <td>0,00</td>\n",
       "      <td>6,6</td>\n",
       "      <td>4,05</td>\n",
       "      <td>19000.0</td>\n",
       "      <td>100,0</td>\n",
       "      <td>497,2</td>\n",
       "      <td>2,22</td>\n",
       "      <td>0</td>\n",
       "      <td>97,78</td>\n",
       "      <td>3</td>\n",
       "      <td>8,71</td>\n",
       "      <td>6,25</td>\n",
       "      <td>NaN</td>\n",
       "      <td>NaN</td>\n",
       "      <td>NaN</td>\n",
       "    </tr>\n",
       "  </tbody>\n",
       "</table>\n",
       "</div>"
      ],
      "text/plain": [
       "           Country                               Region  Population  \\\n",
       "0     Afghanistan         ASIA (EX. NEAR EAST)             31056997   \n",
       "1         Albania   EASTERN EUROPE                          3581655   \n",
       "2         Algeria   NORTHERN AFRICA                        32930091   \n",
       "3  American Samoa   OCEANIA                                   57794   \n",
       "4         Andorra   WESTERN EUROPE                            71201   \n",
       "\n",
       "   Area (sq. mi.) Pop. Density (per sq. mi.) Coastline (coast/area ratio)  \\\n",
       "0          647500                       48,0                         0,00   \n",
       "1           28748                      124,6                         1,26   \n",
       "2         2381740                       13,8                         0,04   \n",
       "3             199                      290,4                        58,29   \n",
       "4             468                      152,1                         0,00   \n",
       "\n",
       "  Net migration Infant mortality (per 1000 births)  GDP ($ per capita)  \\\n",
       "0         23,06                             163,07               700.0   \n",
       "1         -4,93                              21,52              4500.0   \n",
       "2         -0,39                                 31              6000.0   \n",
       "3        -20,71                               9,27              8000.0   \n",
       "4           6,6                               4,05             19000.0   \n",
       "\n",
       "  Literacy (%) Phones (per 1000) Arable (%) Crops (%) Other (%) Climate  \\\n",
       "0         36,0               3,2      12,13      0,22     87,65       1   \n",
       "1         86,5              71,2      21,09      4,42     74,49       3   \n",
       "2         70,0              78,1       3,22      0,25     96,53       1   \n",
       "3         97,0             259,5         10        15        75       2   \n",
       "4        100,0             497,2       2,22         0     97,78       3   \n",
       "\n",
       "  Birthrate Deathrate Agriculture Industry Service  \n",
       "0      46,6     20,34        0,38     0,24    0,38  \n",
       "1     15,11      5,22       0,232    0,188   0,579  \n",
       "2     17,14      4,61       0,101      0,6   0,298  \n",
       "3     22,46      3,27         NaN      NaN     NaN  \n",
       "4      8,71      6,25         NaN      NaN     NaN  "
      ]
     },
     "execution_count": 42,
     "metadata": {},
     "output_type": "execute_result"
    }
   ],
   "source": [
    "df_countries.head()"
   ]
  },
  {
   "cell_type": "code",
   "execution_count": 43,
   "metadata": {},
   "outputs": [],
   "source": [
    "country_to_region = pd.Series(df_countries.Region.values,index=df_countries.Country).to_dict()"
   ]
  },
  {
   "cell_type": "code",
   "execution_count": 44,
   "metadata": {},
   "outputs": [],
   "source": [
    "country_to_region = {k.replace(k,k.upper()): v for k, v in country_to_region.items()}"
   ]
  },
  {
   "cell_type": "code",
   "execution_count": 45,
   "metadata": {},
   "outputs": [
    {
     "name": "stderr",
     "output_type": "stream",
     "text": [
      "<ipython-input-45-d896dc2f5d56>:1: SettingWithCopyWarning: \n",
      "A value is trying to be set on a copy of a slice from a DataFrame.\n",
      "Try using .loc[row_indexer,col_indexer] = value instead\n",
      "\n",
      "See the caveats in the documentation: https://pandas.pydata.org/pandas-docs/stable/user_guide/indexing.html#returning-a-view-versus-a-copy\n",
      "  df_country['Country_space'] = df_country.Country + ' '\n"
     ]
    }
   ],
   "source": [
    "df_country['Country_space'] = df_country.Country + ' '"
   ]
  },
  {
   "cell_type": "code",
   "execution_count": 46,
   "metadata": {},
   "outputs": [
    {
     "name": "stderr",
     "output_type": "stream",
     "text": [
      "<ipython-input-46-5d9b54b6763d>:1: SettingWithCopyWarning: \n",
      "A value is trying to be set on a copy of a slice from a DataFrame.\n",
      "Try using .loc[row_indexer,col_indexer] = value instead\n",
      "\n",
      "See the caveats in the documentation: https://pandas.pydata.org/pandas-docs/stable/user_guide/indexing.html#returning-a-view-versus-a-copy\n",
      "  df_country['Region'] = df_country['Country_space'].map(country_to_region)\n"
     ]
    }
   ],
   "source": [
    "df_country['Region'] = df_country['Country_space'].map(country_to_region)"
   ]
  },
  {
   "cell_type": "code",
   "execution_count": 47,
   "metadata": {},
   "outputs": [
    {
     "data": {
      "text/plain": [
       "NORTHERN AMERICA                       2238\n",
       "OCEANIA                                1807\n",
       "SUB-SAHARAN AFRICA                      758\n",
       "LATIN AMER. & CARIB                     508\n",
       "ASIA (EX. NEAR EAST)                    268\n",
       "WESTERN EUROPE                          192\n",
       "NORTHERN AFRICA                          47\n",
       "NEAR EAST                                38\n",
       "EASTERN EUROPE                           35\n",
       "C.W. OF IND. STATES                       5\n",
       "Name: Region, dtype: int64"
      ]
     },
     "execution_count": 47,
     "metadata": {},
     "output_type": "execute_result"
    }
   ],
   "source": [
    "df_country.Region.value_counts()"
   ]
  },
  {
   "cell_type": "markdown",
   "metadata": {},
   "source": [
    "### Exporting"
   ]
  },
  {
   "cell_type": "code",
   "execution_count": 48,
   "metadata": {},
   "outputs": [],
   "source": [
    "df_country.to_csv(\"./second.csv\")"
   ]
  },
  {
   "cell_type": "markdown",
   "metadata": {},
   "source": [
    "## 3rd Hypothesis: The most frequent activity is surfing"
   ]
  },
  {
   "cell_type": "markdown",
   "metadata": {},
   "source": [
    "### Cleaning DataFrame"
   ]
  },
  {
   "cell_type": "code",
   "execution_count": 49,
   "metadata": {},
   "outputs": [],
   "source": [
    "df_act = df.copy()"
   ]
  },
  {
   "cell_type": "code",
   "execution_count": 50,
   "metadata": {},
   "outputs": [],
   "source": [
    "activities = list(df_act.Activity.dropna().unique())"
   ]
  },
  {
   "cell_type": "markdown",
   "metadata": {},
   "source": [
    "### Creating a new column with the activity"
   ]
  },
  {
   "cell_type": "code",
   "execution_count": 93,
   "metadata": {},
   "outputs": [],
   "source": [
    "pattern_activity = r'([a-zA-Z]*ing)'"
   ]
  },
  {
   "cell_type": "code",
   "execution_count": 102,
   "metadata": {},
   "outputs": [],
   "source": [
    "def searching(pattern, string):\n",
    "    \"\"\"\n",
    "    Searchs a pattern in a string\n",
    "    Args:\n",
    "        pattern (str): pattern to search for\n",
    "        string (str): from where the pattern is sought \n",
    "    Returns:\n",
    "        The pattern found in lower case or, if nothing was found: \"not found\".\n",
    "    \"\"\"\n",
    "    try:\n",
    "        return re.search(pattern, string).group().lower()\n",
    "    except:\n",
    "        return(\"not found\")"
   ]
  },
  {
   "cell_type": "code",
   "execution_count": 98,
   "metadata": {},
   "outputs": [],
   "source": [
    "df_act['Activity_REGEX'] = df_act.Activity.dropna().apply(lambda x: searching(pattern_activity, x))"
   ]
  },
  {
   "cell_type": "code",
   "execution_count": 99,
   "metadata": {},
   "outputs": [
    {
     "data": {
      "text/plain": [
       "surfing         1084\n",
       "swimming        1073\n",
       "fishing          695\n",
       "diving           501\n",
       "spearfishing     402\n",
       "                ... \n",
       "dropping           1\n",
       "scooping           1\n",
       "dismantling        1\n",
       "observing          1\n",
       "checking           1\n",
       "Name: Activity_REGEX, Length: 191, dtype: int64"
      ]
     },
     "execution_count": 99,
     "metadata": {},
     "output_type": "execute_result"
    }
   ],
   "source": [
    "df_act.Activity_REGEX.value_counts()"
   ]
  },
  {
   "cell_type": "code",
   "execution_count": 101,
   "metadata": {},
   "outputs": [
    {
     "data": {
      "text/plain": [
       "398"
      ]
     },
     "execution_count": 101,
     "metadata": {},
     "output_type": "execute_result"
    }
   ],
   "source": [
    "vc = df_act.Activity_REGEX.dropna().value_counts()\n",
    "vc.index = vc.index.astype(str)\n",
    "act_dict = vc.to_dict()\n",
    "act_dict.pop(\"not found\")"
   ]
  },
  {
   "cell_type": "markdown",
   "metadata": {},
   "source": [
    "### Creating a subDataFrame with the most frequent activities"
   ]
  },
  {
   "cell_type": "code",
   "execution_count": 56,
   "metadata": {},
   "outputs": [],
   "source": [
    "act_50 = []\n",
    "act_50 = [act for act,freq in act_dict.items() if freq > 50]"
   ]
  },
  {
   "cell_type": "code",
   "execution_count": 57,
   "metadata": {},
   "outputs": [],
   "source": [
    "df_act_clean = df_act[df_act['Activity_REGEX'].isin(act_50)]"
   ]
  },
  {
   "cell_type": "markdown",
   "metadata": {},
   "source": [
    "### Exporting"
   ]
  },
  {
   "cell_type": "code",
   "execution_count": 58,
   "metadata": {},
   "outputs": [],
   "source": [
    "df_act_clean.to_csv(\"./third.csv\")"
   ]
  },
  {
   "cell_type": "markdown",
   "metadata": {},
   "source": [
    "## 4th hypothesis: The older the age, the more fatal attacks "
   ]
  },
  {
   "cell_type": "code",
   "execution_count": 59,
   "metadata": {},
   "outputs": [],
   "source": [
    "df_age = df.copy()"
   ]
  },
  {
   "cell_type": "markdown",
   "metadata": {},
   "source": [
    "### Cleaning the DataFrame"
   ]
  },
  {
   "cell_type": "code",
   "execution_count": 60,
   "metadata": {},
   "outputs": [],
   "source": [
    "list_YN = ['N','Y']\n",
    "list_years = (list(range(0,80)))\n",
    "list_years_str = [str(year) for year in list_years]\n",
    "df_age_f = df.loc[(df_age[\"Fatal\"].isin(list_YN)) & (df_age[\"Age\"].isin(list_years_str))]"
   ]
  },
  {
   "cell_type": "code",
   "execution_count": 61,
   "metadata": {},
   "outputs": [],
   "source": [
    "df_age_f = df_age_f[df_age_f[\"Age\"].notna()]\n",
    "df_age_f[\"Age\"] = df_age_f[\"Age\"].astype(int)"
   ]
  },
  {
   "cell_type": "markdown",
   "metadata": {},
   "source": [
    "### Exporting"
   ]
  },
  {
   "cell_type": "code",
   "execution_count": 62,
   "metadata": {},
   "outputs": [],
   "source": [
    "df_age_f.to_csv(\"./forth.csv\")"
   ]
  },
  {
   "cell_type": "markdown",
   "metadata": {},
   "source": [
    "## 5th hypothesis: The trend of attacks tends to increase since 1975"
   ]
  },
  {
   "cell_type": "code",
   "execution_count": 63,
   "metadata": {},
   "outputs": [],
   "source": [
    "df_year = df.copy()"
   ]
  },
  {
   "cell_type": "markdown",
   "metadata": {},
   "source": [
    "### Cleaning DataFrame"
   ]
  },
  {
   "cell_type": "code",
   "execution_count": 64,
   "metadata": {},
   "outputs": [],
   "source": [
    "df_year = df_year[df_year['Year'] > 1975]"
   ]
  },
  {
   "cell_type": "markdown",
   "metadata": {},
   "source": [
    "### Creating a DataFrame with years and frequency"
   ]
  },
  {
   "cell_type": "code",
   "execution_count": 65,
   "metadata": {},
   "outputs": [
    {
     "name": "stdout",
     "output_type": "stream",
     "text": [
      "{'2015': 143, '2017': 136, '2016': 130, '2011': 128, '2014': 127, '2008': 122, '2013': 122, '2009': 120, '2012': 117, '2007': 112, '2005': 103, '2006': 103, '2010': 101, '2000': 97, '2001': 92, '2003': 92, '2004': 92, '2002': 88, '1995': 76, '1999': 66, '1998': 65, '1996': 61, '1997': 57, '1994': 56, '1992': 56, '1993': 56, '1988': 55, '2018': 53, '1989': 53, '1983': 50, '1981': 49, '1984': 41, '1982': 40, '1986': 39, '1976': 39, '1990': 38, '1991': 38, '1985': 37, '1987': 35, '1980': 35, '1977': 26, '1979': 25, '1978': 25}\n"
     ]
    }
   ],
   "source": [
    "vc = df_year.Year.value_counts()\n",
    "vc.index = vc.index.astype(str)\n",
    "year_dict = vc.to_dict()\n",
    "print(year_dict)"
   ]
  },
  {
   "cell_type": "code",
   "execution_count": 66,
   "metadata": {},
   "outputs": [],
   "source": [
    "dictionary = {}\n",
    "years = []\n",
    "frequency = []\n",
    "for year,freq in year_dict.items():\n",
    "    years.append(year)\n",
    "    frequency.append(freq)\n",
    "\n",
    "dictionary = { 'years' : years, 'number_of_attacks' : frequency}"
   ]
  },
  {
   "cell_type": "code",
   "execution_count": 67,
   "metadata": {},
   "outputs": [],
   "source": [
    "year_freq = pd.DataFrame(dictionary)"
   ]
  },
  {
   "cell_type": "markdown",
   "metadata": {},
   "source": [
    "### Exporting"
   ]
  },
  {
   "cell_type": "code",
   "execution_count": 68,
   "metadata": {},
   "outputs": [],
   "source": [
    "year_freq.to_csv(\"./fifth.csv\")"
   ]
  },
  {
   "cell_type": "markdown",
   "metadata": {},
   "source": [
    "## 6th hypothesis: The shark that attacks the most is the white shark"
   ]
  },
  {
   "cell_type": "code",
   "execution_count": 78,
   "metadata": {},
   "outputs": [],
   "source": [
    "df_species = df.copy()"
   ]
  },
  {
   "cell_type": "markdown",
   "metadata": {},
   "source": [
    "### Creating a new column with the Species"
   ]
  },
  {
   "cell_type": "code",
   "execution_count": 80,
   "metadata": {},
   "outputs": [],
   "source": [
    "list_of_species = list(df_species.Species.unique())"
   ]
  },
  {
   "cell_type": "code",
   "execution_count": 86,
   "metadata": {},
   "outputs": [],
   "source": [
    "pattern_species = r'\\w+(?=\\s+shark)'"
   ]
  },
  {
   "cell_type": "code",
   "execution_count": 105,
   "metadata": {},
   "outputs": [],
   "source": [
    "df_species['Species_REGEX'] = df_species.Species.dropna().apply(lambda x: searching(pattern_species, x))"
   ]
  },
  {
   "cell_type": "code",
   "execution_count": 106,
   "metadata": {},
   "outputs": [
    {
     "data": {
      "text/html": [
       "<div>\n",
       "<style scoped>\n",
       "    .dataframe tbody tr th:only-of-type {\n",
       "        vertical-align: middle;\n",
       "    }\n",
       "\n",
       "    .dataframe tbody tr th {\n",
       "        vertical-align: top;\n",
       "    }\n",
       "\n",
       "    .dataframe thead th {\n",
       "        text-align: right;\n",
       "    }\n",
       "</style>\n",
       "<table border=\"1\" class=\"dataframe\">\n",
       "  <thead>\n",
       "    <tr style=\"text-align: right;\">\n",
       "      <th></th>\n",
       "      <th>Case_Number</th>\n",
       "      <th>Date</th>\n",
       "      <th>Year</th>\n",
       "      <th>Type</th>\n",
       "      <th>Country</th>\n",
       "      <th>Area</th>\n",
       "      <th>Location</th>\n",
       "      <th>Activity</th>\n",
       "      <th>Name</th>\n",
       "      <th>Sex</th>\n",
       "      <th>Age</th>\n",
       "      <th>Injury</th>\n",
       "      <th>Fatal</th>\n",
       "      <th>Time</th>\n",
       "      <th>Species</th>\n",
       "      <th>Investigator or Source</th>\n",
       "      <th>Species_REGEX</th>\n",
       "    </tr>\n",
       "  </thead>\n",
       "  <tbody>\n",
       "    <tr>\n",
       "      <th>0</th>\n",
       "      <td>2018.06.25</td>\n",
       "      <td>25-Jun-2018</td>\n",
       "      <td>2018</td>\n",
       "      <td>Boating</td>\n",
       "      <td>UNITED STATES</td>\n",
       "      <td>California</td>\n",
       "      <td>Oceanside, San Diego County</td>\n",
       "      <td>Paddling</td>\n",
       "      <td>Julie Wolfe</td>\n",
       "      <td>F</td>\n",
       "      <td>57</td>\n",
       "      <td>No injury to occupant, outrigger canoe and pad...</td>\n",
       "      <td>N</td>\n",
       "      <td>18h00</td>\n",
       "      <td>White shark</td>\n",
       "      <td>R. Collier, GSAF</td>\n",
       "      <td>white</td>\n",
       "    </tr>\n",
       "    <tr>\n",
       "      <th>1</th>\n",
       "      <td>2018.06.18</td>\n",
       "      <td>18-Jun-2018</td>\n",
       "      <td>2018</td>\n",
       "      <td>Unprovoked</td>\n",
       "      <td>UNITED STATES</td>\n",
       "      <td>Georgia</td>\n",
       "      <td>St. Simon Island, Glynn County</td>\n",
       "      <td>Standing</td>\n",
       "      <td>Adyson McNeely</td>\n",
       "      <td>F</td>\n",
       "      <td>11</td>\n",
       "      <td>Minor injury to left thigh</td>\n",
       "      <td>N</td>\n",
       "      <td>14h00  -15h00</td>\n",
       "      <td>NaN</td>\n",
       "      <td>K.McMurray, TrackingSharks.com</td>\n",
       "      <td>NaN</td>\n",
       "    </tr>\n",
       "    <tr>\n",
       "      <th>2</th>\n",
       "      <td>2018.06.09</td>\n",
       "      <td>09-Jun-2018</td>\n",
       "      <td>2018</td>\n",
       "      <td>Invalid</td>\n",
       "      <td>UNITED STATES</td>\n",
       "      <td>Hawaii</td>\n",
       "      <td>Habush, Oahu</td>\n",
       "      <td>Surfing</td>\n",
       "      <td>John Denges</td>\n",
       "      <td>M</td>\n",
       "      <td>48</td>\n",
       "      <td>Injury to left lower leg from surfboard skeg</td>\n",
       "      <td>N</td>\n",
       "      <td>07h45</td>\n",
       "      <td>NaN</td>\n",
       "      <td>K.McMurray, TrackingSharks.com</td>\n",
       "      <td>NaN</td>\n",
       "    </tr>\n",
       "    <tr>\n",
       "      <th>3</th>\n",
       "      <td>2018.06.08</td>\n",
       "      <td>08-Jun-2018</td>\n",
       "      <td>2018</td>\n",
       "      <td>Unprovoked</td>\n",
       "      <td>AUSTRALIA</td>\n",
       "      <td>New South Wales</td>\n",
       "      <td>Arrawarra Headland</td>\n",
       "      <td>Surfing</td>\n",
       "      <td>male</td>\n",
       "      <td>M</td>\n",
       "      <td>NaN</td>\n",
       "      <td>Minor injury to lower leg</td>\n",
       "      <td>N</td>\n",
       "      <td>NaN</td>\n",
       "      <td>2 m shark</td>\n",
       "      <td>B. Myatt, GSAF</td>\n",
       "      <td>m</td>\n",
       "    </tr>\n",
       "    <tr>\n",
       "      <th>4</th>\n",
       "      <td>2018.06.04</td>\n",
       "      <td>04-Jun-2018</td>\n",
       "      <td>2018</td>\n",
       "      <td>Provoked</td>\n",
       "      <td>MEXICO</td>\n",
       "      <td>Colima</td>\n",
       "      <td>La Ticla</td>\n",
       "      <td>Free diving</td>\n",
       "      <td>Gustavo Ramos</td>\n",
       "      <td>M</td>\n",
       "      <td>NaN</td>\n",
       "      <td>Lacerations to leg &amp; hand shark PROVOKED INCIDENT</td>\n",
       "      <td>N</td>\n",
       "      <td>NaN</td>\n",
       "      <td>Tiger shark, 3m</td>\n",
       "      <td>A .Kipper</td>\n",
       "      <td>tiger</td>\n",
       "    </tr>\n",
       "  </tbody>\n",
       "</table>\n",
       "</div>"
      ],
      "text/plain": [
       "  Case_Number         Date  Year        Type        Country             Area  \\\n",
       "0  2018.06.25  25-Jun-2018  2018     Boating  UNITED STATES       California   \n",
       "1  2018.06.18  18-Jun-2018  2018  Unprovoked  UNITED STATES          Georgia   \n",
       "2  2018.06.09  09-Jun-2018  2018     Invalid  UNITED STATES           Hawaii   \n",
       "3  2018.06.08  08-Jun-2018  2018  Unprovoked      AUSTRALIA  New South Wales   \n",
       "4  2018.06.04  04-Jun-2018  2018    Provoked         MEXICO           Colima   \n",
       "\n",
       "                         Location     Activity             Name Sex  Age  \\\n",
       "0     Oceanside, San Diego County     Paddling      Julie Wolfe   F   57   \n",
       "1  St. Simon Island, Glynn County     Standing  Adyson McNeely    F   11   \n",
       "2                    Habush, Oahu      Surfing      John Denges   M   48   \n",
       "3              Arrawarra Headland      Surfing             male   M  NaN   \n",
       "4                        La Ticla  Free diving   Gustavo Ramos    M  NaN   \n",
       "\n",
       "                                              Injury Fatal           Time  \\\n",
       "0  No injury to occupant, outrigger canoe and pad...     N          18h00   \n",
       "1                         Minor injury to left thigh     N  14h00  -15h00   \n",
       "2       Injury to left lower leg from surfboard skeg     N          07h45   \n",
       "3                          Minor injury to lower leg     N            NaN   \n",
       "4  Lacerations to leg & hand shark PROVOKED INCIDENT     N            NaN   \n",
       "\n",
       "           Species          Investigator or Source Species_REGEX  \n",
       "0      White shark                R. Collier, GSAF         white  \n",
       "1              NaN  K.McMurray, TrackingSharks.com           NaN  \n",
       "2              NaN  K.McMurray, TrackingSharks.com           NaN  \n",
       "3        2 m shark                  B. Myatt, GSAF             m  \n",
       "4  Tiger shark, 3m                       A .Kipper         tiger  "
      ]
     },
     "execution_count": 106,
     "metadata": {},
     "output_type": "execute_result"
    }
   ],
   "source": [
    "df_species.head()"
   ]
  },
  {
   "cell_type": "code",
   "execution_count": 112,
   "metadata": {},
   "outputs": [
    {
     "data": {
      "text/plain": [
       "130"
      ]
     },
     "execution_count": 112,
     "metadata": {},
     "output_type": "execute_result"
    }
   ],
   "source": [
    "vc = df_species.Species_REGEX.dropna().value_counts()\n",
    "vc.index = vc.index.astype(str)\n",
    "species_dict = vc.to_dict()\n",
    "species_dict.pop(\"not found\")\n",
    "species_dict.pop(\"m\")"
   ]
  },
  {
   "cell_type": "markdown",
   "metadata": {},
   "source": [
    "### Creating a subDataFrame with the most frequent activities"
   ]
  },
  {
   "cell_type": "code",
   "execution_count": 116,
   "metadata": {},
   "outputs": [],
   "source": [
    "species_40 = []\n",
    "species_40 = [species for species,freq in species_dict.items() if freq > 40]"
   ]
  },
  {
   "cell_type": "code",
   "execution_count": 117,
   "metadata": {},
   "outputs": [],
   "source": [
    "df_species_clean = df_species[df_species['Species_REGEX'].isin(species_40)]"
   ]
  },
  {
   "cell_type": "markdown",
   "metadata": {},
   "source": [
    "### Exporting"
   ]
  },
  {
   "cell_type": "code",
   "execution_count": 119,
   "metadata": {},
   "outputs": [],
   "source": [
    "df_species_clean.to_csv(\"./sixth.csv\")"
   ]
  },
  {
   "cell_type": "code",
   "execution_count": null,
   "metadata": {},
   "outputs": [],
   "source": []
  }
 ],
 "metadata": {
  "kernelspec": {
   "display_name": "Python 3",
   "language": "python",
   "name": "python3"
  },
  "language_info": {
   "codemirror_mode": {
    "name": "ipython",
    "version": 3
   },
   "file_extension": ".py",
   "mimetype": "text/x-python",
   "name": "python",
   "nbconvert_exporter": "python",
   "pygments_lexer": "ipython3",
   "version": "3.8.5"
  }
 },
 "nbformat": 4,
 "nbformat_minor": 4
}
